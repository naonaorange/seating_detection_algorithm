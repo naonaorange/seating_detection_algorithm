{
 "cells": [
  {
   "cell_type": "code",
   "execution_count": 1,
   "metadata": {},
   "outputs": [],
   "source": [
    "%matplotlib inline\n",
    "import glob\n",
    "import numpy as np\n",
    "import matplotlib.pyplot as plt"
   ]
  },
  {
   "cell_type": "code",
   "execution_count": 2,
   "metadata": {},
   "outputs": [
    {
     "name": "stdout",
     "output_type": "stream",
     "text": [
      "['.\\\\data\\\\20200319_not_seating.csv', '.\\\\data\\\\20200319_seating.csv', '.\\\\data\\\\20200322a_not_seating.csv', '.\\\\data\\\\20200323a_seating.csv', '.\\\\data\\\\20200323b_not_seating.csv', '.\\\\data\\\\20200323c_not_seating.csv', '.\\\\data\\\\20200324a_seating.csv', '.\\\\data\\\\20200324b_seating.csv', '.\\\\data\\\\20200324c_not_seating.csv', '.\\\\data\\\\20200324d_not_seating.csv', '.\\\\data\\\\20200324f_seating.csv']\n",
      "all data count :  4568\n"
     ]
    },
    {
     "data": {
      "text/plain": [
       "([<matplotlib.patches.Wedge at 0x1aad5ed3c88>,\n",
       "  <matplotlib.patches.Wedge at 0x1aad5ee3408>],\n",
       " [Text(0.9685936012782347, 0.5213697685547757, 'Seating'),\n",
       "  Text(-0.9685935524640698, -0.5213698592410514, 'NOT Seating')],\n",
       " [Text(0.5283237825154007, 0.2843835101207867, '34.3%'),\n",
       "  Text(-0.5283237558894925, -0.284383559586028, '65.7%')])"
      ]
     },
     "execution_count": 2,
     "metadata": {},
     "output_type": "execute_result"
    },
    {
     "data": {
      "image/png": "[encoded data removed]",
      "text/plain": [
       "<Figure size 432x288 with 1 Axes>"
      ]
     },
     "metadata": {},
     "output_type": "display_data"
    }
   ],
   "source": [
    "file_paths = glob.glob(\".\\\\data\\\\*\")\n",
    "print(file_paths)\n",
    "\n",
    "category =np.empty((0,1), float)\n",
    "rssi =np.empty((0,100), float)\n",
    "\n",
    "for file in file_paths:\n",
    "    d = np.loadtxt(file, delimiter=',')\n",
    "    category_tmp, rssi_tmp = np.hsplit(d, [1])\n",
    "    rssi = np.concatenate([rssi, rssi_tmp], axis=0)\n",
    "    category = np.concatenate([category, category_tmp], axis=0)\n",
    "\n",
    "all_data_count = category.shape[0]\n",
    "seating_data_count = np.count_nonzero(category > 0)\n",
    "print(\"all data count : \", all_data_count)\n",
    "\n",
    "data_pie = [seating_data_count, all_data_count - seating_data_count]\n",
    "label = [\"Seating\", \"NOT Seating\"]\n",
    "plt.pie(data_pie, labels=label, counterclock=False, startangle=90, autopct=\"%1.1f%%\")"
   ]
  },
  {
   "cell_type": "code",
   "execution_count": null,
   "metadata": {},
   "outputs": [],
   "source": []
  },
  {
   "cell_type": "code",
   "execution_count": null,
   "metadata": {},
   "outputs": [],
   "source": []
  },
  {
   "cell_type": "code",
   "execution_count": null,
   "metadata": {},
   "outputs": [],
   "source": []
  },
  {
   "cell_type": "code",
   "execution_count": null,
   "metadata": {},
   "outputs": [],
   "source": []
  },
  {
   "cell_type": "code",
   "execution_count": null,
   "metadata": {},
   "outputs": [],
   "source": []
  }
 ],
 "metadata": {
  "kernelspec": {
   "display_name": "Python 3",
   "language": "python",
   "name": "python3"
  },
  "language_info": {
   "codemirror_mode": {
    "name": "ipython",
    "version": 3
   },
   "file_extension": ".py",
   "mimetype": "text/x-python",
   "name": "python",
   "nbconvert_exporter": "python",
   "pygments_lexer": "ipython3",
   "version": "3.7.5"
  }
 },
 "nbformat": 4,
 "nbformat_minor": 2
}
