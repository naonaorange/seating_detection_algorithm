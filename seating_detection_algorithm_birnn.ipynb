{
 "cells": [
  {
   "cell_type": "code",
   "execution_count": 32,
   "metadata": {},
   "outputs": [],
   "source": [
    "%matplotlib inline\n",
    "\n",
    "import numpy as np\n",
    "import matplotlib.pyplot as plt\n",
    "from sklearn.model_selection import train_test_split\n",
    "from sklearn.utils import shuffle\n",
    "import tensorflow as tf\n",
    "from tensorflow.keras import datasets\n",
    "from tensorflow.keras.models import Model\n",
    "from tensorflow.keras.layers import Dense, LSTM, Bidirectional\n",
    "from tensorflow.keras import optimizers\n",
    "from tensorflow.keras import losses\n",
    "from tensorflow.keras import metrics\n",
    "from tensorflow.keras.callbacks import EarlyStopping"
   ]
  },
  {
   "cell_type": "code",
   "execution_count": 33,
   "metadata": {},
   "outputs": [
    {
     "name": "stdout",
     "output_type": "stream",
     "text": [
      "[3 2 0 ... 0 9 4]\n"
     ]
    }
   ],
   "source": [
    "np.random.seed(123)\n",
    "tf.random.set_seed(123)\n",
    "\n",
    "mnist = datasets.mnist\n",
    "(x_train, t_train), (x_test, t_test) = mnist.load_data()\n",
    "\n",
    "x_train = (x_train.reshape(-1, 28, 28) / 255).astype(np.float32)\n",
    "x_test = (x_test.reshape(-1, 28, 28) / 255).astype(np.float32)\n",
    "\n",
    "x_train, x_val, t_train, t_val = \\\n",
    "    train_test_split(x_train, t_train, test_size=0.2)\n",
    "\n",
    "print(t_train)"
   ]
  },
  {
   "cell_type": "code",
   "execution_count": 34,
   "metadata": {},
   "outputs": [],
   "source": [
    "class BiRNN(Model):\n",
    "    def __init__(self, hidden_dim):\n",
    "        super().__init__()\n",
    "        self.l1 = Bidirectional(LSTM(hidden_dim, activation='tanh',\n",
    "                                     recurrent_activation='sigmoid',\n",
    "                                     kernel_initializer='glorot_normal',\n",
    "                                     recurrent_initializer='orthogonal'),\n",
    "                                merge_mode='concat')\n",
    "        self.l2 = Dense(10, kernel_initializer='glorot_normal',\n",
    "                        activation='softmax')\n",
    "\n",
    "    def call(self, x):\n",
    "        h = self.l1(x)\n",
    "        y = self.l2(h)\n",
    "        return y\n",
    "\n",
    "model = BiRNN(25)\n",
    "\n",
    "criterion = losses.SparseCategoricalCrossentropy()\n",
    "optimizer = optimizers.Adam(learning_rate=0.001,\n",
    "                                beta_1=0.9, beta_2=0.999, amsgrad=True)\n",
    "train_loss = metrics.Mean()\n",
    "train_acc = metrics.SparseCategoricalAccuracy()\n",
    "val_loss = metrics.Mean()\n",
    "val_acc = metrics.SparseCategoricalAccuracy()"
   ]
  },
  {
   "cell_type": "code",
   "execution_count": 35,
   "metadata": {},
   "outputs": [],
   "source": [
    "def compute_loss(t, y):\n",
    "    return criterion(t, y)\n",
    "\n",
    "def train_step(x, t):\n",
    "    with tf.GradientTape() as tape:\n",
    "        preds = model(x)\n",
    "        loss = compute_loss(t, preds)\n",
    "    grads = tape.gradient(loss, model.trainable_variables)\n",
    "    optimizer.apply_gradients(zip(grads, model.trainable_variables))\n",
    "    train_loss(loss)\n",
    "    train_acc(t, preds)\n",
    "\n",
    "    return loss\n",
    "\n",
    "def val_step(x, t):\n",
    "    preds = model(x)\n",
    "    loss = compute_loss(t, preds)\n",
    "    val_loss(loss)\n",
    "    val_acc(t, preds)\n",
    "    \n",
    "#epochs = 1000\n",
    "epochs = 16\n",
    "batch_size = 100\n",
    "n_batches_train = x_train.shape[0] // batch_size\n",
    "n_batches_val = x_val.shape[0] // batch_size\n",
    "hist = {'loss': [], 'accuracy': [],\n",
    "        'val_loss': [], 'val_accuracy': []}\n",
    "es = EarlyStopping(patience=5, verbose=1)"
   ]
  },
  {
   "cell_type": "code",
   "execution_count": 36,
   "metadata": {},
   "outputs": [
    {
     "name": "stdout",
     "output_type": "stream",
     "text": [
      "epoch: 1, loss: 0.968, acc: 0.692, val_loss: 0.445, val_acc: 0.867\n",
      "epoch: 2, loss: 0.648, acc: 0.797, val_loss: 0.353, val_acc: 0.893\n",
      "epoch: 3, loss: 0.503, acc: 0.844, val_loss: 0.303, val_acc: 0.908\n",
      "epoch: 4, loss: 0.418, acc: 0.871, val_loss: 0.266, val_acc: 0.919\n",
      "epoch: 5, loss: 0.362, acc: 0.889, val_loss: 0.244, val_acc: 0.927\n",
      "epoch: 6, loss: 0.322, acc: 0.901, val_loss: 0.223, val_acc: 0.933\n",
      "epoch: 7, loss: 0.291, acc: 0.911, val_loss: 0.207, val_acc: 0.938\n",
      "epoch: 8, loss: 0.267, acc: 0.918, val_loss: 0.195, val_acc: 0.942\n",
      "epoch: 9, loss: 0.247, acc: 0.925, val_loss: 0.185, val_acc: 0.945\n",
      "epoch: 10, loss: 0.23, acc: 0.930, val_loss: 0.176, val_acc: 0.948\n",
      "epoch: 11, loss: 0.216, acc: 0.934, val_loss: 0.169, val_acc: 0.950\n",
      "epoch: 12, loss: 0.204, acc: 0.938, val_loss: 0.163, val_acc: 0.952\n",
      "epoch: 13, loss: 0.193, acc: 0.941, val_loss: 0.158, val_acc: 0.953\n",
      "epoch: 14, loss: 0.184, acc: 0.944, val_loss: 0.153, val_acc: 0.955\n",
      "epoch: 15, loss: 0.176, acc: 0.947, val_loss: 0.149, val_acc: 0.956\n",
      "epoch: 16, loss: 0.168, acc: 0.949, val_loss: 0.145, val_acc: 0.957\n"
     ]
    }
   ],
   "source": [
    "for epoch in range(epochs):\n",
    "    x_, t_ = shuffle(x_train, t_train)\n",
    "\n",
    "    for batch in range(n_batches_train):\n",
    "        start = batch * batch_size\n",
    "        end = start + batch_size\n",
    "        train_step(x_[start:end], t_[start:end])\n",
    "\n",
    "    for batch in range(n_batches_val):\n",
    "        start = batch * batch_size\n",
    "        end = start + batch_size\n",
    "        val_step(x_val[start:end], t_val[start:end])\n",
    "\n",
    "    hist['loss'].append(train_loss.result())\n",
    "    hist['accuracy'].append(train_acc.result())\n",
    "    hist['val_loss'].append(val_loss.result())\n",
    "    hist['val_accuracy'].append(val_acc.result())\n",
    "\n",
    "    print('epoch: {}, loss: {:.3}, acc: {:.3f}'\n",
    "          ', val_loss: {:.3}, val_acc: {:.3f}'.format(\n",
    "              epoch+1,\n",
    "              train_loss.result(),\n",
    "              train_acc.result(),\n",
    "              val_loss.result(),\n",
    "              val_acc.result()\n",
    "          ))\n",
    "\n",
    "#    if es(val_loss.result()):\n",
    "#            break"
   ]
  },
  {
   "cell_type": "code",
   "execution_count": 37,
   "metadata": {},
   "outputs": [
    {
     "data": {
      "image/png": "[encoded data removed]",
      "text/plain": [
       "<Figure size 432x288 with 1 Axes>"
      ]
     },
     "metadata": {
      "needs_background": "light"
     },
     "output_type": "display_data"
    },
    {
     "name": "stdout",
     "output_type": "stream",
     "text": [
      "test_loss: 0.080, test_acc: 0.976\n"
     ]
    }
   ],
   "source": [
    "# 検証データの誤差の可視化\n",
    "loss = hist['loss']\n",
    "val_loss = hist['val_loss']\n",
    "\n",
    "fig = plt.figure()\n",
    "plt.rc('font', family='serif')\n",
    "plt.plot(range(len(loss)), loss,\n",
    "         color='gray', linewidth=1,\n",
    "         label='loss')\n",
    "plt.plot(range(len(val_loss)), val_loss,\n",
    "         color='black', linewidth=1,\n",
    "         label='val_loss')\n",
    "plt.xlabel('epochs')\n",
    "plt.ylabel('loss')\n",
    "plt.legend()\n",
    "# plt.savefig('output.jpg')\n",
    "plt.show()\n",
    "\n",
    "# テストデータの評価\n",
    "test_loss = metrics.Mean()\n",
    "test_acc = metrics.SparseCategoricalAccuracy()\n",
    "\n",
    "def test_step(x, t):\n",
    "    preds = model(x)\n",
    "    loss = compute_loss(t, preds)\n",
    "    test_loss(loss)\n",
    "    test_acc(t, preds)\n",
    "\n",
    "    return loss\n",
    "\n",
    "test_step(x_test, t_test)\n",
    "\n",
    "print('test_loss: {:.3f}, test_acc: {:.3f}'.format(\n",
    "    test_loss.result(),\n",
    "    test_acc.result()\n",
    "))"
   ]
  }
 ],
 "metadata": {
  "kernelspec": {
   "display_name": "Python 3",
   "language": "python",
   "name": "python3"
  },
  "language_info": {
   "codemirror_mode": {
    "name": "ipython",
    "version": 3
   },
   "file_extension": ".py",
   "mimetype": "text/x-python",
   "name": "python",
   "nbconvert_exporter": "python",
   "pygments_lexer": "ipython3",
   "version": "3.6.10"
  }
 },
 "nbformat": 4,
 "nbformat_minor": 4
}
