{
 "cells": [
  {
   "cell_type": "code",
   "execution_count": 15,
   "metadata": {},
   "outputs": [
    {
     "name": "stdout",
     "output_type": "stream",
     "text": [
      "['./data/20200323b_not_seating.csv', './data/20200323a_seating.csv', './data/20200322a_not_seating.csv', './data/20200324d_not_seating.csv', './data/20200319_seating.csv', './data/20200325e_not_seating.csv', './data/20200326b_not_seating.csv', './data/20200319_not_seating.csv', './data/20200325c_seating.csv', './data/20200326a_seating.csv', './data/20200324f_seating.csv', './data/20200323c_not_seating.csv', './data/20200324a_seating.csv', './data/20200324c_not_seating.csv', './data/20200325a_seating.csv', './data/20200324b_seating.csv', './data/20200325b_seating.csv']\n",
      "./data2/20200323b_not_seating.csv\n",
      "=============================\n",
      "./data2/20200323a_seating.csv\n",
      "=============================\n",
      "./data2/20200322a_not_seating.csv\n",
      "=============================\n",
      "./data2/20200324d_not_seating.csv\n",
      "=============================\n",
      "./data2/20200319_seating.csv\n",
      "=============================\n",
      "./data2/20200325e_not_seating.csv\n",
      "=============================\n",
      "./data2/20200326b_not_seating.csv\n",
      "=============================\n",
      "./data2/20200319_not_seating.csv\n",
      "=============================\n",
      "./data2/20200325c_seating.csv\n",
      "=============================\n",
      "./data2/20200326a_seating.csv\n",
      "=============================\n",
      "./data2/20200324f_seating.csv\n",
      "=============================\n",
      "./data2/20200323c_not_seating.csv\n",
      "=============================\n",
      "./data2/20200324a_seating.csv\n",
      "=============================\n",
      "./data2/20200324c_not_seating.csv\n",
      "=============================\n",
      "./data2/20200325a_seating.csv\n",
      "=============================\n",
      "./data2/20200324b_seating.csv\n",
      "=============================\n",
      "./data2/20200325b_seating.csv\n",
      "=============================\n"
     ]
    }
   ],
   "source": [
    "import os\n",
    "import glob\n",
    "import numpy as np\n",
    "\n",
    "file_paths = glob.glob(\"./data/*\")\n",
    "print(file_paths)\n",
    "\n",
    "for file in file_paths:\n",
    "    print('./data2/' + os.path.basename(file))\n",
    "    \n",
    "    with open('./data2/' + os.path.basename(file), mode='w') as f:\n",
    "        d = np.loadtxt(file, delimiter=',')\n",
    "        line_count = 0\n",
    "        for i in d:\n",
    "            if line_count % 2 == 0:\n",
    "                for n in i:\n",
    "                    f.write(str(float(n)))\n",
    "                    f.write(',')\n",
    "            else:\n",
    "                c = 0\n",
    "                for n in i[1:]:\n",
    "                    f.write(str(float(n)))\n",
    "                    if c != 99:\n",
    "                        f.write(',')\n",
    "                    else:\n",
    "                        f.write('\\n')\n",
    "                    c += 1\n",
    "                    \n",
    "            line_count += 1\n",
    "    print('=============================')"
   ]
  },
  {
   "cell_type": "code",
   "execution_count": null,
   "metadata": {},
   "outputs": [],
   "source": []
  }
 ],
 "metadata": {
  "kernelspec": {
   "display_name": "Python 3",
   "language": "python",
   "name": "python3"
  },
  "language_info": {
   "codemirror_mode": {
    "name": "ipython",
    "version": 3
   },
   "file_extension": ".py",
   "mimetype": "text/x-python",
   "name": "python",
   "nbconvert_exporter": "python",
   "pygments_lexer": "ipython3",
   "version": "3.7.3"
  }
 },
 "nbformat": 4,
 "nbformat_minor": 2
}
