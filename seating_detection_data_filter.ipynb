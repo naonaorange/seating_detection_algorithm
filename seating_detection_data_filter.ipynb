{
 "cells": [
  {
   "cell_type": "code",
   "execution_count": 2,
   "metadata": {},
   "outputs": [
    {
     "name": "stdout",
     "output_type": "stream",
     "text": [
      "the all line count:  7159\n",
      "the filtered_line_count:  5853\n",
      "filtered / all:  0.8175722866322112\n"
     ]
    }
   ],
   "source": [
    "import os\n",
    "import glob\n",
    "import numpy as np\n",
    "\n",
    "file_paths = glob.glob(\"./data/*\")\n",
    "filtered_line_count = 0\n",
    "all_line_count = 0\n",
    "\n",
    "for file in file_paths:\n",
    "    with open('./data_filter/' + os.path.basename(file), mode='w') as f:\n",
    "        all_data = np.loadtxt(file, delimiter=',')\n",
    "        for line_data in all_data:\n",
    "            rssi = np.delete(line_data, 0)\n",
    "            std_rssi = np.std(rssi)\n",
    "            max_rssi = rssi.max()\n",
    "            min_rssi = rssi.min()\n",
    "            diff_rssi = max_rssi - min_rssi\n",
    "           \n",
    "            if std_rssi > 1.0 and diff_rssi > 5.0:\n",
    "                count = 0\n",
    "                for d in line_data:\n",
    "                    f.write(str(float(d)))\n",
    "                    if count != 100:\n",
    "                        f.write(',')                    \n",
    "                    count += 1\n",
    "                f.write('\\n')\n",
    "                filtered_line_count += 1\n",
    "            else:\n",
    "                pass\n",
    "                #print(std)\n",
    "            all_line_count += 1\n",
    "\n",
    "print('the all line count: ', all_line_count)\n",
    "print('the filtered_line_count: ', filtered_line_count)\n",
    "print('filtered / all: ', filtered_line_count/all_line_count)"
   ]
  },
  {
   "cell_type": "code",
   "execution_count": null,
   "metadata": {},
   "outputs": [],
   "source": []
  }
 ],
 "metadata": {
  "kernelspec": {
   "display_name": "Python 3",
   "language": "python",
   "name": "python3"
  },
  "language_info": {
   "codemirror_mode": {
    "name": "ipython",
    "version": 3
   },
   "file_extension": ".py",
   "mimetype": "text/x-python",
   "name": "python",
   "nbconvert_exporter": "python",
   "pygments_lexer": "ipython3",
   "version": "3.7.5"
  }
 },
 "nbformat": 4,
 "nbformat_minor": 2
}
